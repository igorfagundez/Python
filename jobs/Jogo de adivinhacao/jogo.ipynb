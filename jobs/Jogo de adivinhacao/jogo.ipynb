{
 "cells": [
  {
   "cell_type": "code",
   "execution_count": 1,
   "metadata": {},
   "outputs": [
    {
     "name": "stdout",
     "output_type": "stream",
     "text": [
      "Bem-vindo ao jogo de adivinhação de números!\n",
      "Estou pensando em um número entre 1 e 100.\n",
      "Tente um número maior.\n",
      "Tente um número menor.\n",
      "Tente um número maior.\n",
      "Tente um número maior.\n",
      "Tente um número maior.\n",
      "Tente um número maior.\n",
      "Tente um número maior.\n",
      "Tente um número maior.\n",
      "Tente um número maior.\n",
      "Tente um número menor.\n",
      "Tente um número menor.\n",
      "Tente um número menor.\n",
      "Parabéns! Você acertou o número em 13 tentativas.\n"
     ]
    }
   ],
   "source": [
    "import random\n",
    "\n",
    "# Gere um número aleatório entre 1 e 100\n",
    "numero_secreto = random.randint(1, 100)\n",
    "\n",
    "# Inicialize o número de tentativas\n",
    "tentativas = 0\n",
    "\n",
    "print(\"Bem-vindo ao jogo de adivinhação de números!\")\n",
    "print(\"Estou pensando em um número entre 1 e 100.\")\n",
    "\n",
    "while True:\n",
    "    try:\n",
    "        # Peça ao jogador para adivinhar o número\n",
    "        palpite = int(input(\"Digite seu palpite: \"))\n",
    "\n",
    "        # Incremente o número de tentativas\n",
    "        tentativas += 1\n",
    "\n",
    "        # Verifique se o palpite está correto\n",
    "        if palpite == numero_secreto:\n",
    "            print(f\"Parabéns! Você acertou o número em {tentativas} tentativas.\")\n",
    "            break\n",
    "        elif palpite < numero_secreto:\n",
    "            print(\"Tente um número maior.\")\n",
    "        else:\n",
    "            print(\"Tente um número menor.\")\n",
    "    except ValueError:\n",
    "        print(\"Por favor, digite um número válido.\")\n"
   ]
  }
 ],
 "metadata": {
  "kernelspec": {
   "display_name": "Python 3",
   "language": "python",
   "name": "python3"
  },
  "language_info": {
   "codemirror_mode": {
    "name": "ipython",
    "version": 3
   },
   "file_extension": ".py",
   "mimetype": "text/x-python",
   "name": "python",
   "nbconvert_exporter": "python",
   "pygments_lexer": "ipython3",
   "version": "3.10.7"
  },
  "orig_nbformat": 4
 },
 "nbformat": 4,
 "nbformat_minor": 2
}
