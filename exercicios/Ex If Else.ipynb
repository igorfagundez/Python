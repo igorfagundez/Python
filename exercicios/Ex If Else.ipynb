{
 "cells": [
  {
   "cell_type": "code",
   "execution_count": 7,
   "metadata": {},
   "outputs": [
    {
     "name": "stdout",
     "output_type": "stream",
     "text": [
      "O número 1 é impar\n"
     ]
    }
   ],
   "source": [
    "# Verificação de Número Par ou Ímpar\n",
    "# Escreva um programa que solicita ao usuário um número e, em seguida, imprime se o número é par ou ímpar.\n",
    "n = int (input(\"Informe um número\"))\n",
    "\n",
    "if n % 2 == 0: # Ele divide o número por 2 a porcentagem '%' pega o resto da divisão \n",
    "    print(f\"O número {n} é par\")\n",
    "else:\n",
    "    print(f\"O número {n} é impar\")"
   ]
  },
  {
   "cell_type": "code",
   "execution_count": null,
   "metadata": {},
   "outputs": [
    {
     "name": "stdout",
     "output_type": "stream",
     "text": [
      "Compra recusada pois o valor 80.0 é abaixo de R$100.00 que é o valor minimo de um a compra\n"
     ]
    }
   ],
   "source": [
    "# Decisão de Compra\n",
    "# Crie um programa que pede ao usuário para inserir o preço de um produto e, com base no preço, decide se o usuário pode ou não comprá-lo \n",
    "# (por exemplo, se o preço for maior que 100, imprima \"Compra aprovada!\").\n",
    "\n",
    "n = float (input(\"Informe o valor de um produto\"))\n",
    "\n",
    "if n > 100:\n",
    "    print(f\"Compra Aprovada\")\n",
    "else:\n",
    "    print(f\"Compra recusada pois o valor {n} é abaixo de R$100.00 que é o valor minimo de um a compra\")"
   ]
  },
  {
   "cell_type": "code",
   "execution_count": 10,
   "metadata": {},
   "outputs": [
    {
     "name": "stdout",
     "output_type": "stream",
     "text": [
      "Você disse que quer: Fazer uma tatto \n",
      " Porém isso não é algo necessário, então não faça\n"
     ]
    }
   ],
   "source": [
    "# Decisões Milena\n",
    "\n",
    "motivo = str(input(\"O que você quer fazer ?\"))\n",
    "decisao = int(input(\"Isso é necessário ? Sim [1] ou Não [0]\"))\n",
    "\n",
    "if decisao == 1:\n",
    "    print(f\"Você disse que quer: {motivo} \\n Porém isso é algo necessário, então faça\")\n",
    "else: \n",
    "    print(f\"Você disse que quer: {motivo} \\n Porém isso não é algo necessário, então não faça\")"
   ]
  },
  {
   "cell_type": "code",
   "execution_count": null,
   "metadata": {},
   "outputs": [],
   "source": []
  }
 ],
 "metadata": {
  "kernelspec": {
   "display_name": "Python 3",
   "language": "python",
   "name": "python3"
  },
  "language_info": {
   "codemirror_mode": {
    "name": "ipython",
    "version": 3
   },
   "file_extension": ".py",
   "mimetype": "text/x-python",
   "name": "python",
   "nbconvert_exporter": "python",
   "pygments_lexer": "ipython3",
   "version": "3.10.7"
  },
  "orig_nbformat": 4
 },
 "nbformat": 4,
 "nbformat_minor": 2
}
